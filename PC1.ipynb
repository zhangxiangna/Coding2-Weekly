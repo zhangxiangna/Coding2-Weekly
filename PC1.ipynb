{
 "cells": [
  {
   "cell_type": "code",
   "execution_count": 5,
   "id": "622c1166",
   "metadata": {},
   "outputs": [
    {
     "name": "stdout",
     "output_type": "stream",
     "text": [
      "i hope you didnt translate it by hand. thats what computers are for. doing it in by hand is inefficient and that's why this text is so long. using string.maketrans() is recommended. now apply on the url.ocr\n"
     ]
    }
   ],
   "source": [
    "# Define the original message string\n",
    "message = \"g fmnc wms bgblr rpylqjyrc gr zw fylb. rfyrq ufyr amknsrcpq ypc dmp. \" \\\n",
    "          \"bmgle gr gl zw fylb gq glcddgagclr ylb rfyr'q ufw rfgq rcvr gq \" \\\n",
    "          \"qm jmle. sqgle qrpgle.kyicrpylq() gq pcamkkclbcb. lmu ynnjw ml \" \\\n",
    "          \"rfc spj.\"\\\n",
    "           \"map\"\n",
    "\n",
    "# Define a function to shift a single character by a given number of positions\n",
    "def shift_char(c, n):\n",
    "    # Define the alphabet as a string of lowercase letters\n",
    "    alphabet = 'abcdefghijklmnopqrstuvwxyz'\n",
    "    # If c is not a lowercase letter, return it as-is\n",
    "    if c not in alphabet:\n",
    "        return c\n",
    "    # Otherwise, shift the character by n positions and wrap around if necessary\n",
    "    shifted_index = (alphabet.index(c) + n) % len(alphabet)\n",
    "    return alphabet[shifted_index]\n",
    "\n",
    "# Define a function to shift a string by a given number of positions\n",
    "def shift_string(s, n):\n",
    "    # Map each character in s to its shifted version and join them into a new string\n",
    "    return ''.join(shift_char(c, n) for c in s)\n",
    "\n",
    "# Shift the original message by two positions to get the translated message\n",
    "translated_message = shift_string(message, 2)\n",
    "\n",
    "# Print the translated message\n",
    "print(translated_message)"
   ]
  },
  {
   "cell_type": "code",
   "execution_count": null,
   "id": "fcb29e44",
   "metadata": {},
   "outputs": [],
   "source": []
  }
 ],
 "metadata": {
  "kernelspec": {
   "display_name": "Python 3 (ipykernel)",
   "language": "python",
   "name": "python3"
  },
  "language_info": {
   "codemirror_mode": {
    "name": "ipython",
    "version": 3
   },
   "file_extension": ".py",
   "mimetype": "text/x-python",
   "name": "python",
   "nbconvert_exporter": "python",
   "pygments_lexer": "ipython3",
   "version": "3.10.9"
  }
 },
 "nbformat": 4,
 "nbformat_minor": 5
}
