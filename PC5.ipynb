{
 "cells": [
  {
   "cell_type": "code",
   "execution_count": 2,
   "id": "2ce641c2",
   "metadata": {},
   "outputs": [
    {
     "name": "stdout",
     "output_type": "stream",
     "text": [
      "                                                                                               \n",
      "              #####                                                                      ##### \n",
      "               ####                                                                       #### \n",
      "               ####                                                                       #### \n",
      "               ####                                                                       #### \n",
      "               ####                                                                       #### \n",
      "               ####                                                                       #### \n",
      "               ####                                                                       #### \n",
      "               ####                                                                       #### \n",
      "      ###      ####   ###         ###       #####   ###    #####   ###          ###       #### \n",
      "   ###   ##    #### #######     ##  ###      #### #######   #### #######     ###  ###     #### \n",
      "  ###     ###  #####    ####   ###   ####    #####    ####  #####    ####   ###     ###   #### \n",
      " ###           ####     ####   ###    ###    ####     ####  ####     ####  ###      ####  #### \n",
      " ###           ####     ####          ###    ####     ####  ####     ####  ###       ###  #### \n",
      "####           ####     ####     ##   ###    ####     ####  ####     #### ####       ###  #### \n",
      "####           ####     ####   ##########    ####     ####  ####     #### ##############  #### \n",
      "####           ####     ####  ###    ####    ####     ####  ####     #### ####            #### \n",
      "####           ####     #### ####     ###    ####     ####  ####     #### ####            #### \n",
      " ###           ####     #### ####     ###    ####     ####  ####     ####  ###            #### \n",
      "  ###      ##  ####     ####  ###    ####    ####     ####  ####     ####   ###      ##   #### \n",
      "   ###    ##   ####     ####   ###########   ####     ####  ####     ####    ###    ##    #### \n",
      "      ###     ######    #####    ##    #### ######    ###########    #####      ###      ######\n",
      "                                                                                               \n"
     ]
    }
   ],
   "source": [
    "import pickle\n",
    "import urllib.request\n",
    "\n",
    "url = \"http://www.pythonchallenge.com/pc/def/banner.p\"\n",
    "\n",
    "# Load pickle files and deserialize\n",
    "with urllib.request.urlopen(url) as f:\n",
    "    data = pickle.load(f)\n",
    "\n",
    "# Output Pattern\n",
    "for row in data:\n",
    "    print(\"\".join([char * count for char, count in row]))"
   ]
  },
  {
   "cell_type": "code",
   "execution_count": null,
   "id": "8532d240",
   "metadata": {},
   "outputs": [],
   "source": []
  }
 ],
 "metadata": {
  "kernelspec": {
   "display_name": "Python 3 (ipykernel)",
   "language": "python",
   "name": "python3"
  },
  "language_info": {
   "codemirror_mode": {
    "name": "ipython",
    "version": 3
   },
   "file_extension": ".py",
   "mimetype": "text/x-python",
   "name": "python",
   "nbconvert_exporter": "python",
   "pygments_lexer": "ipython3",
   "version": "3.10.9"
  }
 },
 "nbformat": 4,
 "nbformat_minor": 5
}
