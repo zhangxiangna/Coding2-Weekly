{
 "cells": [
  {
   "cell_type": "code",
   "execution_count": 1,
   "id": "c33e0eea",
   "metadata": {},
   "outputs": [
    {
     "name": "stdout",
     "output_type": "stream",
     "text": [
      "linkedlist\n"
     ]
    }
   ],
   "source": [
    "import re\n",
    "import urllib.request\n",
    "\n",
    "url = 'http://www.pythonchallenge.com/pc/def/equality.html'\n",
    "\n",
    "with urllib.request.urlopen(url) as response:\n",
    "    html = response.read().decode()\n",
    "\n",
    "# Extract the mess\n",
    "match = re.search('<!--(.*?)-->', html, re.DOTALL)\n",
    "mess = match.group(1)\n",
    "\n",
    "# Find rare characters\n",
    "rare_chars = [char for char in mess if not char.isalpha()]\n",
    "\n",
    "# Extract the solution\n",
    "solution = ''.join(re.findall('[^A-Z][A-Z]{3}([a-z])[A-Z]{3}[^A-Z]', mess))\n",
    "\n",
    "print(solution)"
   ]
  },
  {
   "cell_type": "code",
   "execution_count": null,
   "id": "8db18700",
   "metadata": {},
   "outputs": [],
   "source": []
  }
 ],
 "metadata": {
  "kernelspec": {
   "display_name": "Python 3 (ipykernel)",
   "language": "python",
   "name": "python3"
  },
  "language_info": {
   "codemirror_mode": {
    "name": "ipython",
    "version": 3
   },
   "file_extension": ".py",
   "mimetype": "text/x-python",
   "name": "python",
   "nbconvert_exporter": "python",
   "pygments_lexer": "ipython3",
   "version": "3.10.9"
  }
 },
 "nbformat": 4,
 "nbformat_minor": 5
}
