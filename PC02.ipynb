{
 "cells": [
  {
   "cell_type": "code",
   "execution_count": 9,
   "id": "a66002a3",
   "metadata": {},
   "outputs": [
    {
     "name": "stdout",
     "output_type": "stream",
     "text": [
      "e 1\n",
      "q 1\n",
      "u 1\n",
      "a 1\n",
      "l 1\n",
      "i 1\n",
      "t 1\n",
      "y 1\n"
     ]
    }
   ],
   "source": [
    "import urllib.request  # Import the urllib.request module for retrieving web data\n",
    "import re  # Import the re module for HTML parsing using regular expressions\n",
    "\n",
    "# Fetch the HTML content from the web page\n",
    "html = urllib.request.urlopen(\"http://www.pythonchallenge.com/pc/def/ocr.html\").read().decode()\n",
    "\n",
    "# Extract the comment string from the HTML using regex\n",
    "comments = re.findall(\"<!--(.*?)-->\", html, re.DOTALL)[-1]\n",
    "\n",
    "# Create a dictionary to store the frequency of each character\n",
    "freq = {}\n",
    "\n",
    "# Loop through each character in the comment string and calculate its frequency\n",
    "for c in comments:\n",
    "    # Consider only alphabets\n",
    "    if c.isalpha():\n",
    "        if c in freq:\n",
    "            freq[c] += 1\n",
    "        else:\n",
    "            freq[c] = 1\n",
    "\n",
    "# Output the frequency of each character\n",
    "for c, count in freq.items():\n",
    "    print(c, count)\n"
   ]
  },
  {
   "cell_type": "code",
   "execution_count": null,
   "id": "5bef37b2",
   "metadata": {},
   "outputs": [],
   "source": []
  }
 ],
 "metadata": {
  "kernelspec": {
   "display_name": "Python 3 (ipykernel)",
   "language": "python",
   "name": "python3"
  },
  "language_info": {
   "codemirror_mode": {
    "name": "ipython",
    "version": 3
   },
   "file_extension": ".py",
   "mimetype": "text/x-python",
   "name": "python",
   "nbconvert_exporter": "python",
   "pygments_lexer": "ipython3",
   "version": "3.10.9"
  }
 },
 "nbformat": 4,
 "nbformat_minor": 5
}
